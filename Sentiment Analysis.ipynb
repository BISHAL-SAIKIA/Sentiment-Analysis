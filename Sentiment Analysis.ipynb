{
 "cells": [
  {
   "cell_type": "code",
   "execution_count": 22,
   "id": "95fbf609-05f6-4221-bd43-87cee0ce23e1",
   "metadata": {},
   "outputs": [],
   "source": [
    "import numpy as np\n",
    "import pandas as pd\n",
    "from sklearn.model_selection import train_test_split\n",
    "import tensorflow as tf\n",
    "from tensorflow.keras.preprocessing.text import Tokenizer\n",
    "from tensorflow.keras.preprocessing.sequence import pad_sequences\n",
    "from tensorflow.keras.models import Sequential\n",
    "from keras import layers\n",
    "from sklearn.metrics import confusion_matrix, classification_report"
   ]
  },
  {
   "cell_type": "markdown",
   "id": "74218261-6e2e-450b-816a-5a11fed92a56",
   "metadata": {},
   "source": [
    "# Loading Data"
   ]
  },
  {
   "cell_type": "code",
   "execution_count": 26,
   "id": "5cb33401-0a29-49ee-8776-d62dfd2782aa",
   "metadata": {},
   "outputs": [],
   "source": [
    "df=pd.read_csv(\"IMDB Dataset.csv\")\n",
    "df=df.sample(n=5000).reset_index(drop=True)"
   ]
  },
  {
   "cell_type": "code",
   "execution_count": 27,
   "id": "342d8ac3-a0b8-4902-a5f6-71a5658b9433",
   "metadata": {},
   "outputs": [
    {
     "data": {
      "text/html": [
       "<div>\n",
       "<style scoped>\n",
       "    .dataframe tbody tr th:only-of-type {\n",
       "        vertical-align: middle;\n",
       "    }\n",
       "\n",
       "    .dataframe tbody tr th {\n",
       "        vertical-align: top;\n",
       "    }\n",
       "\n",
       "    .dataframe thead th {\n",
       "        text-align: right;\n",
       "    }\n",
       "</style>\n",
       "<table border=\"1\" class=\"dataframe\">\n",
       "  <thead>\n",
       "    <tr style=\"text-align: right;\">\n",
       "      <th></th>\n",
       "      <th>review</th>\n",
       "      <th>sentiment</th>\n",
       "    </tr>\n",
       "  </thead>\n",
       "  <tbody>\n",
       "    <tr>\n",
       "      <th>0</th>\n",
       "      <td>Still a sucker for Pyun's esthetic sense, I li...</td>\n",
       "      <td>negative</td>\n",
       "    </tr>\n",
       "    <tr>\n",
       "      <th>1</th>\n",
       "      <td>I just called my brother Paulie on the phone a...</td>\n",
       "      <td>positive</td>\n",
       "    </tr>\n",
       "    <tr>\n",
       "      <th>2</th>\n",
       "      <td>I'm actually too drained to write this review ...</td>\n",
       "      <td>negative</td>\n",
       "    </tr>\n",
       "    <tr>\n",
       "      <th>3</th>\n",
       "      <td>I enjoy movies like this for their spirit, no ...</td>\n",
       "      <td>positive</td>\n",
       "    </tr>\n",
       "    <tr>\n",
       "      <th>4</th>\n",
       "      <td>Oftentimes, films of this nature come across a...</td>\n",
       "      <td>positive</td>\n",
       "    </tr>\n",
       "  </tbody>\n",
       "</table>\n",
       "</div>"
      ],
      "text/plain": [
       "                                              review sentiment\n",
       "0  Still a sucker for Pyun's esthetic sense, I li...  negative\n",
       "1  I just called my brother Paulie on the phone a...  positive\n",
       "2  I'm actually too drained to write this review ...  negative\n",
       "3  I enjoy movies like this for their spirit, no ...  positive\n",
       "4  Oftentimes, films of this nature come across a...  positive"
      ]
     },
     "execution_count": 27,
     "metadata": {},
     "output_type": "execute_result"
    }
   ],
   "source": [
    "df.head()"
   ]
  },
  {
   "cell_type": "markdown",
   "id": "7cdcd73e-a467-4e15-8abb-54aa18a385e5",
   "metadata": {},
   "source": [
    "# TEXT CLEANING"
   ]
  },
  {
   "cell_type": "markdown",
   "id": "59935309-cdc2-4a17-8456-d8b9e8daabca",
   "metadata": {},
   "source": [
    "1.LOWER CASING\n",
    "2. KEEP LETERS ONLY\n",
    "3. REMOVE STOPPERS, AND KEEP ONLY NOUNS "
   ]
  },
  {
   "cell_type": "code",
   "execution_count": 28,
   "id": "174ecbf5-47a7-444a-9526-83165e37e84b",
   "metadata": {},
   "outputs": [
    {
     "name": "stderr",
     "output_type": "stream",
     "text": [
      "[nltk_data] Downloading package stopwords to\n",
      "[nltk_data]     C:\\Users\\ASUS\\AppData\\Roaming\\nltk_data...\n",
      "[nltk_data]   Package stopwords is already up-to-date!\n"
     ]
    }
   ],
   "source": [
    "import re\n",
    "import html\n",
    "import nltk\n",
    "from nltk.corpus import stopwords\n",
    "from nltk.stem import PorterStemmer\n",
    "nltk.download('stopwords')\n",
    "\n",
    "stemmer = PorterStemmer()\n",
    "stopwords= set(stopwords.words('english'))\n",
    "\n",
    "def clean_review_with_stopwords_and_stemming(review):\n",
    "    review=html.unescape(review) #The html.unescape() function converts HTML character entities back to normal characters.\n",
    "    reviw=re.sub(r'<.*?>', '', review) # this removes the html tags\n",
    "    review= review.lower() #text to lower case\n",
    "\n",
    "    review = re.sub(r'[^a-z\\s]','',review) #removes all numeric values except letter from [a-z]\n",
    "\n",
    "    words= review.split()\n",
    "\n",
    "    cleaned_review = [stemmer.stem(word) for word in words if word not in stopwords]\n",
    "\n",
    "    return ' '.join(cleaned_review)"
   ]
  },
  {
   "cell_type": "code",
   "execution_count": 29,
   "id": "c5729385-aee2-480e-9f95-00e394e545cc",
   "metadata": {},
   "outputs": [],
   "source": [
    "df['review']= df['review'].apply(clean_review_with_stopwords_and_stemming)"
   ]
  },
  {
   "cell_type": "code",
   "execution_count": 30,
   "id": "8f38d9aa-47bb-4115-8639-6395fc696f73",
   "metadata": {},
   "outputs": [
    {
     "data": {
      "text/html": [
       "<div>\n",
       "<style scoped>\n",
       "    .dataframe tbody tr th:only-of-type {\n",
       "        vertical-align: middle;\n",
       "    }\n",
       "\n",
       "    .dataframe tbody tr th {\n",
       "        vertical-align: top;\n",
       "    }\n",
       "\n",
       "    .dataframe thead th {\n",
       "        text-align: right;\n",
       "    }\n",
       "</style>\n",
       "<table border=\"1\" class=\"dataframe\">\n",
       "  <thead>\n",
       "    <tr style=\"text-align: right;\">\n",
       "      <th></th>\n",
       "      <th>review</th>\n",
       "      <th>sentiment</th>\n",
       "    </tr>\n",
       "  </thead>\n",
       "  <tbody>\n",
       "    <tr>\n",
       "      <th>0</th>\n",
       "      <td>still sucker pyun esthet sens like movi though...</td>\n",
       "      <td>negative</td>\n",
       "    </tr>\n",
       "    <tr>\n",
       "      <th>1</th>\n",
       "      <td>call brother pauli phone said watch hood funni...</td>\n",
       "      <td>positive</td>\n",
       "    </tr>\n",
       "    <tr>\n",
       "      <th>2</th>\n",
       "      <td>im actual drain write review bad movi alway fe...</td>\n",
       "      <td>negative</td>\n",
       "    </tr>\n",
       "    <tr>\n",
       "      <th>3</th>\n",
       "      <td>enjoy movi like spirit pun intend decent clean...</td>\n",
       "      <td>positive</td>\n",
       "    </tr>\n",
       "    <tr>\n",
       "      <th>4</th>\n",
       "      <td>oftentim film natur come across mix bag great ...</td>\n",
       "      <td>positive</td>\n",
       "    </tr>\n",
       "  </tbody>\n",
       "</table>\n",
       "</div>"
      ],
      "text/plain": [
       "                                              review sentiment\n",
       "0  still sucker pyun esthet sens like movi though...  negative\n",
       "1  call brother pauli phone said watch hood funni...  positive\n",
       "2  im actual drain write review bad movi alway fe...  negative\n",
       "3  enjoy movi like spirit pun intend decent clean...  positive\n",
       "4  oftentim film natur come across mix bag great ...  positive"
      ]
     },
     "execution_count": 30,
     "metadata": {},
     "output_type": "execute_result"
    }
   ],
   "source": [
    "df.head()"
   ]
  },
  {
   "cell_type": "markdown",
   "id": "ad2995b5-2359-4d0e-90f7-0a56487cdd6c",
   "metadata": {},
   "source": [
    "# Encoding"
   ]
  },
  {
   "cell_type": "code",
   "execution_count": 31,
   "id": "9e623950-ff79-42ba-8101-2a3535a08847",
   "metadata": {},
   "outputs": [
    {
     "data": {
      "text/html": [
       "<div>\n",
       "<style scoped>\n",
       "    .dataframe tbody tr th:only-of-type {\n",
       "        vertical-align: middle;\n",
       "    }\n",
       "\n",
       "    .dataframe tbody tr th {\n",
       "        vertical-align: top;\n",
       "    }\n",
       "\n",
       "    .dataframe thead th {\n",
       "        text-align: right;\n",
       "    }\n",
       "</style>\n",
       "<table border=\"1\" class=\"dataframe\">\n",
       "  <thead>\n",
       "    <tr style=\"text-align: right;\">\n",
       "      <th></th>\n",
       "      <th>review</th>\n",
       "      <th>sentiment</th>\n",
       "    </tr>\n",
       "  </thead>\n",
       "  <tbody>\n",
       "    <tr>\n",
       "      <th>0</th>\n",
       "      <td>still sucker pyun esthet sens like movi though...</td>\n",
       "      <td>0</td>\n",
       "    </tr>\n",
       "    <tr>\n",
       "      <th>1</th>\n",
       "      <td>call brother pauli phone said watch hood funni...</td>\n",
       "      <td>1</td>\n",
       "    </tr>\n",
       "    <tr>\n",
       "      <th>2</th>\n",
       "      <td>im actual drain write review bad movi alway fe...</td>\n",
       "      <td>0</td>\n",
       "    </tr>\n",
       "    <tr>\n",
       "      <th>3</th>\n",
       "      <td>enjoy movi like spirit pun intend decent clean...</td>\n",
       "      <td>1</td>\n",
       "    </tr>\n",
       "    <tr>\n",
       "      <th>4</th>\n",
       "      <td>oftentim film natur come across mix bag great ...</td>\n",
       "      <td>1</td>\n",
       "    </tr>\n",
       "  </tbody>\n",
       "</table>\n",
       "</div>"
      ],
      "text/plain": [
       "                                              review  sentiment\n",
       "0  still sucker pyun esthet sens like movi though...          0\n",
       "1  call brother pauli phone said watch hood funni...          1\n",
       "2  im actual drain write review bad movi alway fe...          0\n",
       "3  enjoy movi like spirit pun intend decent clean...          1\n",
       "4  oftentim film natur come across mix bag great ...          1"
      ]
     },
     "execution_count": 31,
     "metadata": {},
     "output_type": "execute_result"
    }
   ],
   "source": [
    "from sklearn.preprocessing import LabelEncoder\n",
    "encoder = LabelEncoder()\n",
    "df.sentiment = encoder.fit_transform(df.sentiment)\n",
    "df.head()"
   ]
  },
  {
   "cell_type": "markdown",
   "id": "5a49b23d-be98-42ce-b09b-9a30673f83d3",
   "metadata": {},
   "source": [
    "##### positive = 1, negative = 0"
   ]
  },
  {
   "cell_type": "code",
   "execution_count": 32,
   "id": "86342a41-d3d5-4019-96e8-1c507fff9b72",
   "metadata": {},
   "outputs": [],
   "source": [
    "X=df.review\n",
    "y=df.sentiment\n",
    "RANDOM_STATE=42\n",
    "text_train, text_test, y_train, y_test = train_test_split(X,y, test_size=0.2, random_state=RANDOM_STATE)"
   ]
  },
  {
   "cell_type": "code",
   "execution_count": 33,
   "id": "061fae61-51b1-4641-b8c7-ba014928d534",
   "metadata": {},
   "outputs": [
    {
     "data": {
      "image/png": "[encoded data removed]",
      "text/plain": [
       "<Figure size 640x480 with 1 Axes>"
      ]
     },
     "metadata": {},
     "output_type": "display_data"
    }
   ],
   "source": [
    "import cv2\n",
    "import matplotlib.pyplot as plt\n",
    "%matplotlib inline\n",
    "img = cv2.imread('im.png')\n",
    "img = cv2.cvtColor(img, cv2.COLOR_BGR2RGB)\n",
    "plt.imshow(img)\n",
    "plt.axis('off')\n",
    "plt.show()"
   ]
  },
  {
   "cell_type": "markdown",
   "id": "0aa85725-5ee5-4de4-bf27-0dbf8bbd7462",
   "metadata": {},
   "source": [
    "# Tokenization"
   ]
  },
  {
   "cell_type": "code",
   "execution_count": 34,
   "id": "1077360e-e6a4-4973-b36e-673e47b957fd",
   "metadata": {},
   "outputs": [
    {
     "data": {
      "text/plain": [
       "(32258, 820)"
      ]
     },
     "execution_count": 34,
     "metadata": {},
     "output_type": "execute_result"
    }
   ],
   "source": [
    "tokenizer = Tokenizer()\n",
    "tokenizer.fit_on_texts(text_train)\n",
    "\n",
    "X_train = tokenizer.texts_to_sequences(text_train)\n",
    "X_test = tokenizer.texts_to_sequences(text_test)\n",
    "\n",
    "vocab_size= len(tokenizer.word_index) + 1\n",
    "maxlen = max(len(x) for x in X_train)\n",
    "\n",
    "vocab_size,maxlen"
   ]
  },
  {
   "cell_type": "code",
   "execution_count": 11,
   "id": "1d335868-48b5-4bd0-a44c-d37dbc2d0bdf",
   "metadata": {},
   "outputs": [],
   "source": [
    "#1440 is the highest number of token present in a sequence\n",
    "#120060 is the number of tokens present"
   ]
  },
  {
   "cell_type": "markdown",
   "id": "fa4fab6c-4055-4fe3-83b7-f460144ea4b0",
   "metadata": {},
   "source": [
    "### Adding paddings now"
   ]
  },
  {
   "cell_type": "code",
   "execution_count": 35,
   "id": "5c967925-907c-46be-9457-07e5c23d8ffe",
   "metadata": {
    "jp-MarkdownHeadingCollapsed": true
   },
   "outputs": [
    {
     "data": {
      "text/plain": [
       "array([[  150,     3,  5464, ...,     0,     0,     0],\n",
       "       [    4, 16061,     3, ...,     0,     0,     0],\n",
       "       [  151,     6,     2, ...,     0,     0,     0],\n",
       "       ...,\n",
       "       [ 1983,    38,   458, ...,     0,     0,     0],\n",
       "       [  126,  1114,   993, ...,     0,     0,     0],\n",
       "       [   55,   534,    39, ...,     0,     0,     0]])"
      ]
     },
     "execution_count": 35,
     "metadata": {},
     "output_type": "execute_result"
    }
   ],
   "source": [
    "X_train =pad_sequences(X_train, padding='post', maxlen=maxlen)\n",
    "X_test =pad_sequences(X_test, padding='post', maxlen=maxlen)\n",
    "#post means putting zeroes at end & pre to add zeroes at front\n",
    "X_train"
   ]
  },
  {
   "cell_type": "markdown",
   "id": "085a5ca3-f3ae-41c1-b63a-72f424905686",
   "metadata": {},
   "source": [
    "# CNN ARCHITECTURE"
   ]
  },
  {
   "cell_type": "code",
   "execution_count": 36,
   "id": "9652cbe0-b511-4713-9f78-34045db9fb7e",
   "metadata": {},
   "outputs": [],
   "source": [
    " embedding_dim = 100 #word[100]"
   ]
  },
  {
   "cell_type": "code",
   "execution_count": 37,
   "id": "468f1d37-57e8-498e-9656-ec1003bc1184",
   "metadata": {},
   "outputs": [
    {
     "name": "stderr",
     "output_type": "stream",
     "text": [
      "C:\\Users\\ASUS\\AppData\\Local\\Programs\\Python\\Python39\\lib\\site-packages\\keras\\src\\layers\\core\\embedding.py:97: UserWarning: Argument `input_length` is deprecated. Just remove it.\n",
      "  warnings.warn(\n"
     ]
    }
   ],
   "source": [
    "model= Sequential()\n",
    "model.add(layers.Embedding(vocab_size, embedding_dim, input_length=maxlen))\n",
    "model.add(layers.Conv1D(128, 5, activation='relu'))\n",
    "model.add(layers.GlobalMaxPool1D())\n",
    "\n",
    "model.add(layers.Dense(10, activation='relu'))\n",
    "model.add(layers.Dense(1,activation='sigmoid'))  # if binary classification , use sigmoid, otherwise use softmax\n",
    "\n",
    "model.compile(optimizer = 'adam',loss='binary_crossentropy',metrics=['accuracy'])"
   ]
  },
  {
   "cell_type": "code",
   "execution_count": 38,
   "id": "56176459-7520-48ce-91a6-57e7bf5d716d",
   "metadata": {},
   "outputs": [
    {
     "name": "stdout",
     "output_type": "stream",
     "text": [
      "Epoch 1/3\n",
      "\u001b[1m63/63\u001b[0m \u001b[32m━━━━━━━━━━━━━━━━━━━━\u001b[0m\u001b[37m\u001b[0m \u001b[1m10s\u001b[0m 137ms/step - accuracy: 0.5730 - loss: 0.6859 - val_accuracy: 0.6340 - val_loss: 0.6246\n",
      "Epoch 2/3\n",
      "\u001b[1m63/63\u001b[0m \u001b[32m━━━━━━━━━━━━━━━━━━━━\u001b[0m\u001b[37m\u001b[0m \u001b[1m9s\u001b[0m 136ms/step - accuracy: 0.7810 - loss: 0.5270 - val_accuracy: 0.8200 - val_loss: 0.4206\n",
      "Epoch 3/3\n",
      "\u001b[1m63/63\u001b[0m \u001b[32m━━━━━━━━━━━━━━━━━━━━\u001b[0m\u001b[37m\u001b[0m \u001b[1m9s\u001b[0m 136ms/step - accuracy: 0.8982 - loss: 0.2688 - val_accuracy: 0.8210 - val_loss: 0.4032\n"
     ]
    }
   ],
   "source": [
    "history = model.fit(X_train,y_train, epochs=3,batch_size=64,verbose=True, validation_data=(X_test,y_test))"
   ]
  },
  {
   "cell_type": "code",
   "execution_count": 39,
   "id": "d75580b6-74e6-4688-a271-6a3a98584d4f",
   "metadata": {},
   "outputs": [
    {
     "data": {
      "text/plain": [
       "{'accuracy': [0.6127499938011169, 0.8034999966621399, 0.9122499823570251],\n",
       " 'loss': [0.6711970567703247, 0.4751690626144409, 0.24181726574897766],\n",
       " 'val_accuracy': [0.6340000033378601, 0.8199999928474426, 0.8209999799728394],\n",
       " 'val_loss': [0.6245872378349304, 0.42059847712516785, 0.4032391309738159]}"
      ]
     },
     "execution_count": 39,
     "metadata": {},
     "output_type": "execute_result"
    }
   ],
   "source": [
    "history.history"
   ]
  },
  {
   "cell_type": "markdown",
   "id": "972364b7-f237-4501-b9ca-a80c46ddd19f",
   "metadata": {},
   "source": [
    "#### Visulalizing accuracy using matplotlib"
   ]
  },
  {
   "cell_type": "code",
   "execution_count": 40,
   "id": "d4f567eb-983c-4e87-a0af-0a1e9cde51d6",
   "metadata": {},
   "outputs": [
    {
     "data": {
      "image/png": "[encoded data removed]",
      "text/plain": [
       "<Figure size 1200x600 with 2 Axes>"
      ]
     },
     "metadata": {},
     "output_type": "display_data"
    }
   ],
   "source": [
    "import matplotlib.pyplot as plt\n",
    "%matplotlib inline\n",
    "\n",
    "#plot accuracy\n",
    "plt.figure(figsize=(12,6))\n",
    "plt.subplot(1,2,1)\n",
    "plt.plot(history.history['accuracy'], label = 'Training Accuracy')\n",
    "plt.plot(history.history['val_accuracy'], label = 'Validation Accuracy')\n",
    "plt.title('Accuracy over Epochs')\n",
    "plt.xlabel('Epochs')\n",
    "plt.ylabel('Accuracy')\n",
    "plt.legend()\n",
    "\n",
    "#plot loss\n",
    "plt.subplot(1, 2, 2)\n",
    "plt.plot(history.history['loss'], label='Training Loss')\n",
    "plt.plot(history.history['val_loss'], label='Validation Loss')\n",
    "plt.title('Loss over Epochs')\n",
    "plt.xlabel('Epochs')\n",
    "plt.ylabel('Loss')\n",
    "plt.legend()\n",
    "\n",
    "plt.tight_layout()\n",
    "plt.show()"
   ]
  },
  {
   "cell_type": "markdown",
   "id": "4fcc5c90-266b-45a1-8692-c79e3ec2586e",
   "metadata": {},
   "source": [
    "# Confusion and Classification Report"
   ]
  },
  {
   "cell_type": "code",
   "execution_count": 42,
   "id": "e18e670e-53eb-480e-94fe-0abc626e12bc",
   "metadata": {},
   "outputs": [
    {
     "name": "stdout",
     "output_type": "stream",
     "text": [
      "\u001b[1m32/32\u001b[0m \u001b[32m━━━━━━━━━━━━━━━━━━━━\u001b[0m\u001b[37m\u001b[0m \u001b[1m0s\u001b[0m 11ms/step\n",
      "Classification Report:\n",
      "              precision    recall  f1-score   support\n",
      "\n",
      "           0       0.79      0.88      0.83       510\n",
      "           1       0.86      0.76      0.81       490\n",
      "\n",
      "    accuracy                           0.82      1000\n",
      "   macro avg       0.82      0.82      0.82      1000\n",
      "weighted avg       0.82      0.82      0.82      1000\n",
      "\n"
     ]
    },
    {
     "data": {
      "image/png": "[encoded data removed]",
      "text/plain": [
       "<Figure size 600x600 with 2 Axes>"
      ]
     },
     "metadata": {},
     "output_type": "display_data"
    }
   ],
   "source": [
    "from sklearn.metrics import classification_report, confusion_matrix\n",
    "import seaborn as sns\n",
    "import matplotlib.pyplot as plt\n",
    "import numpy as np\n",
    "\n",
    "# Predict on the test data\n",
    "y_pred = (model.predict(X_test) > 0.5).astype(int)\n",
    "\n",
    "# Classification report\n",
    "print(\"Classification Report:\")\n",
    "print(classification_report(y_test, y_pred))\n",
    "\n",
    "# Confusion matrix\n",
    "conf_matrix = confusion_matrix(y_test, y_pred)\n",
    "\n",
    "# Plot confusion matrix\n",
    "plt.figure(figsize=(6, 6))\n",
    "sns.heatmap(conf_matrix, annot=True, fmt='d', cmap='Blues', xticklabels=['Negative', 'Positive'], yticklabels=['Negative', 'Positive'])\n",
    "plt.title('Confusion Matrix')\n",
    "plt.xlabel('Predicted')\n",
    "plt.ylabel('Actual')\n",
    "plt.show()"
   ]
  },
  {
   "cell_type": "markdown",
   "id": "72e90322-3e27-4bce-987c-d74e93b7ab7f",
   "metadata": {},
   "source": [
    "Predict script"
   ]
  },
  {
   "cell_type": "code",
   "execution_count": 49,
   "id": "0a1c580e-8a89-4a2b-aeac-08463036f346",
   "metadata": {},
   "outputs": [],
   "source": [
    "def predict_sentiment(review,tokenizer,model,maxlen):\n",
    "    text=clean_review_with_stopwords_and_stemming(review)\n",
    "\n",
    "    sequence = tokenizer.texts_to_sequences([text])\n",
    "    padded_seqence = pad_sequences(sequence, padding='post', maxlen=maxlen)\n",
    "\n",
    "    prediction = model.predict(padded_seqence)[0][0]\n",
    "    if prediction>0.5:\n",
    "        return \"Positive\"\n",
    "    else:\n",
    "        return \"Negative\"\n",
    "    "
   ]
  },
  {
   "cell_type": "code",
   "execution_count": 51,
   "id": "316f1e5b-8db7-4e00-9cc3-3006d060095b",
   "metadata": {},
   "outputs": [
    {
     "name": "stdout",
     "output_type": "stream",
     "text": [
      "\u001b[1m1/1\u001b[0m \u001b[32m━━━━━━━━━━━━━━━━━━━━\u001b[0m\u001b[37m\u001b[0m \u001b[1m0s\u001b[0m 37ms/step\n"
     ]
    },
    {
     "data": {
      "text/plain": [
       "'Positive'"
      ]
     },
     "execution_count": 51,
     "metadata": {},
     "output_type": "execute_result"
    }
   ],
   "source": [
    "predict_sentiment(\"Good Movie\", tokenizer,model,maxlen)"
   ]
  },
  {
   "cell_type": "code",
   "execution_count": 63,
   "id": "743d505e-b17e-4559-89cf-7152a5fa908a",
   "metadata": {},
   "outputs": [],
   "source": [
    "model.save(\"CNN_sentiment.h5\")\n",
    "\n",
    "import pickle\n",
    "from tensorflow.keras.preprocessing.text import Tokenizer\n",
    "\n",
    "# Assuming you have your `tokenizer` object from training\n",
    "with open('tokenizer.pkl', 'wb') as f:\n",
    "    pickle.dump(tokenizer, f)"
   ]
  },
  {
   "cell_type": "code",
   "execution_count": 64,
   "id": "1df8dcc0-858e-49aa-9159-e451d8b7ff9d",
   "metadata": {},
   "outputs": [
    {
     "name": "stdout",
     "output_type": "stream",
     "text": [
      "2.15.0\n"
     ]
    }
   ],
   "source": [
    "import tensorflow as tf\n",
    "print(tf.__version__)\n"
   ]
  },
  {
   "cell_type": "code",
   "execution_count": 65,
   "id": "7adf748b-a66b-4dec-8afe-567b7a7fd5d7",
   "metadata": {},
   "outputs": [
    {
     "name": "stderr",
     "output_type": "stream",
     "text": [
      "WARNING:absl:You are saving your model as an HDF5 file via `model.save()` or `keras.saving.save_model(model)`. This file format is considered legacy. We recommend using instead the native Keras format, e.g. `model.save('my_model.keras')` or `keras.saving.save_model(model, 'my_model.keras')`. \n"
     ]
    }
   ],
   "source": [
    "model.save(\"CNN_sentiment.h5\")"
   ]
  },
  {
   "cell_type": "code",
   "execution_count": null,
   "id": "489f20f7-62ad-4efe-b78c-a6883cc40f20",
   "metadata": {},
   "outputs": [],
   "source": []
  }
 ],
 "metadata": {
  "kernelspec": {
   "display_name": "Python 3 (ipykernel)",
   "language": "python",
   "name": "python3"
  },
  "language_info": {
   "codemirror_mode": {
    "name": "ipython",
    "version": 3
   },
   "file_extension": ".py",
   "mimetype": "text/x-python",
   "name": "python",
   "nbconvert_exporter": "python",
   "pygments_lexer": "ipython3",
   "version": "3.9.8"
  }
 },
 "nbformat": 4,
 "nbformat_minor": 5
}
